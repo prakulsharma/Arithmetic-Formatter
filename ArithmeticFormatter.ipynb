{
 "cells": [
  {
   "cell_type": "code",
   "execution_count": 1,
   "id": "united-answer",
   "metadata": {},
   "outputs": [],
   "source": [
    "def arithmetic_arranger(problems,result=False):\n",
    "    numOfProb = len(problems)\n",
    "    str = \"\"\n",
    "    problemList = []\n",
    "    finalstr = \"\"  \n",
    "    firststr = \"\"\n",
    "    secstr = \"\"\n",
    "    thirdstr = \"\"\n",
    "    forstr = \"\"\n",
    "    calList = []\n",
    "    \n",
    "    # Condition 1: Number of problems\n",
    "    if numOfProb > 5 :\n",
    "        return \"Error: Too many problems.\"\n",
    "    for i in range(numOfProb):\n",
    "        if len(problems[i].split(\" \")) != 3:\n",
    "            # Condition 2: Wrong format\n",
    "            return \"Error: Wrong format\"     \n",
    "        problemList.append(problems[i].split(\" \"))\n",
    "        if problemList[i][1] != '+' and problemList[i][1] != '-':\n",
    "            # Condition 3: Wrong operator\n",
    "            return \"Error: Operator must be '+' or '-'.\"\n",
    "        if len(problemList[i][0]) > 4 or len(problemList[i][2]) > 4:\n",
    "            # Condition 4: Max number of digits\n",
    "            return \"Error: Numbers cannot be more than four digits.\"\n",
    "        if problemList[i][0].isnumeric() == False or problemList[i][2].isnumeric() == False:\n",
    "            # Condition 5: Only digits\n",
    "            return \"Error: Numbers must only contain digits.\"\n",
    "         \n",
    "    for i in range(numOfProb):\n",
    "        if i == (numOfProb-1):\n",
    "            operand1 = problemList[i][0]\n",
    "            operator = problemList[i][1]\n",
    "            operand2 = problemList[i][2]\n",
    "            olen1 = len(operand1)\n",
    "            olen2 = len(operand2)\n",
    "            res = 0\n",
    "\n",
    "            if operator == \"+\":\n",
    "                res = int(operand1) + int(operand2)\n",
    "            else:\n",
    "                res = int(operand1) - int(operand2)\n",
    "\n",
    "            resStr = \"{}\".format(res) \n",
    "\n",
    "            if olen1 > olen2:\n",
    "                firststr = firststr + operand1.rjust(olen1+2)\n",
    "                secstr = secstr + operator + operand2.rjust(olen1+1)\n",
    "                thirdstr = thirdstr + \"-\"*(olen1+2)\n",
    "                forstr = forstr + resStr.rjust(olen1+2)\n",
    "            else:\n",
    "                firststr = firststr + operand1.rjust(olen2+2)\n",
    "                secstr = secstr + operator + \" \" + operand2.rjust(olen2)\n",
    "                thirdstr = thirdstr + \"-\"*(olen2+2)\n",
    "                forstr = forstr + resStr.rjust(olen2+2)\n",
    "        else:\n",
    "            operand1 = problemList[i][0]\n",
    "            operator = problemList[i][1]\n",
    "            operand2 = problemList[i][2]\n",
    "            olen1 = len(operand1)\n",
    "            olen2 = len(operand2)\n",
    "            res = 0\n",
    "\n",
    "            if operator == \"+\":\n",
    "                res = int(operand1) + int(operand2)\n",
    "            else:\n",
    "                res = int(operand1) - int(operand2)\n",
    "\n",
    "            resStr = \"{}\".format(res) \n",
    "\n",
    "            if olen1 > olen2:\n",
    "                firststr = firststr + operand1.rjust(olen1+2) + \"    \"\n",
    "                secstr = secstr + operator + operand2.rjust(olen1+1) + \"    \"\n",
    "                thirdstr = thirdstr + \"-\"*(olen1+2) + \"    \"\n",
    "                forstr = forstr + resStr.rjust(olen1+2) + \"    \"\n",
    "            else:\n",
    "                firststr = firststr + operand1.rjust(olen2+2) + \"    \"\n",
    "                secstr = secstr + operator + \" \" + operand2.rjust(olen2) + \"    \"\n",
    "                thirdstr = thirdstr + \"-\"*(olen2+2) + \"    \"\n",
    "                forstr = forstr + resStr.rjust(olen2+2) + \"    \"\n",
    "\n",
    "    if result == False:\n",
    "        finalstr = firststr + \"\\n\" + secstr + \"\\n\" + thirdstr\n",
    "        return finalstr\n",
    "    else:\n",
    "        finalstr = firststr + \"\\n\" + secstr + \"\\n\" + thirdstr + \"\\n\" + forstr\n",
    "        return finalstr"
   ]
  },
  {
   "cell_type": "code",
   "execution_count": 2,
   "id": "antique-mention",
   "metadata": {},
   "outputs": [
    {
     "name": "stdout",
     "output_type": "stream",
     "text": [
      "  234         1      7463      9999      544\n",
      "+ 656    - 8001    + 9878    +    1    -  22\n",
      "-----    ------    ------    ------    -----\n"
     ]
    }
   ],
   "source": [
    "print(arithmetic_arranger([\"234 + 656\", \"1 - 8001\", \"7463 + 9878\", \"9999 + 1\", \"544 - 22\"]))"
   ]
  },
  {
   "cell_type": "code",
   "execution_count": 3,
   "id": "central-constant",
   "metadata": {},
   "outputs": [
    {
     "name": "stdout",
     "output_type": "stream",
     "text": [
      "  234         1      7463      9999      544\n",
      "+ 656    - 8001    + 9878    +    1    -  22\n",
      "-----    ------    ------    ------    -----\n",
      "  890     -8000     17341     10000      522\n"
     ]
    }
   ],
   "source": [
    "print(arithmetic_arranger([\"234 + 656\", \"1 - 8001\", \"7463 + 9878\", \"9999 + 1\", \"544 - 22\"], True))"
   ]
  }
 ],
 "metadata": {
  "kernelspec": {
   "display_name": "Python 3",
   "language": "python",
   "name": "python3"
  },
  "language_info": {
   "codemirror_mode": {
    "name": "ipython",
    "version": 3
   },
   "file_extension": ".py",
   "mimetype": "text/x-python",
   "name": "python",
   "nbconvert_exporter": "python",
   "pygments_lexer": "ipython3",
   "version": "3.9.2"
  }
 },
 "nbformat": 4,
 "nbformat_minor": 5
}
